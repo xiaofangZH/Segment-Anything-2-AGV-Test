{
  "nbformat": 4,
  "nbformat_minor": 0,
  "metadata": {
    "colab": {
      "provenance": [],
      "gpuType": "T4",
      "authorship_tag": "ABX9TyMwMeuEFoSBNTGPtV7K6szz",
      "include_colab_link": true
    },
    "kernelspec": {
      "name": "python3",
      "display_name": "Python 3"
    },
    "language_info": {
      "name": "python"
    },
    "accelerator": "GPU"
  },
  "cells": [
    {
      "cell_type": "markdown",
      "metadata": {
        "id": "view-in-github",
        "colab_type": "text"
      },
      "source": [
        "<a href=\"https://colab.research.google.com/github/xiaofangZH/Segment-Anything-2-AGV-Test/blob/main/Detection_Transformer.ipynb\" target=\"_parent\"><img src=\"https://colab.research.google.com/assets/colab-badge.svg\" alt=\"Open In Colab\"/></a>"
      ]
    },
    {
      "cell_type": "code",
      "execution_count": 1,
      "metadata": {
        "id": "3JTZU0sdnDdb"
      },
      "outputs": [],
      "source": [
        "import torch\n",
        "from torch import nn\n",
        "from torchvision.models import resnet50"
      ]
    },
    {
      "cell_type": "code",
      "source": [
        "class DetectionTransformer(nn.Module):\n",
        "  def __init__(self,num_classes,hidden_dim,nheads,num_encoder_layers,num_decoder_layers):\n",
        "    super().__init__()\n",
        "    self.backbone=nn.Sequential(*list(resnet50(pretrained=True).children())[:-2])\n",
        "    self.conv=nn.Conv2d(2048,hidden_dim,1)\n",
        "    self.transformer=nn.Transformer(hidden_dim,nheads,num_encoder_layers,num_decoder_layers)\n",
        "    self.linear_classes=nn.Linear(hidden_dim,num_classes+1)\n",
        "    self.linear_bbox=nn.Linear(hidden_dim,4)\n",
        "    self.query_pos=nn.Parameter(torch.rand(100,hidden_dim))\n",
        "    self.row_embed=nn.Parameter(torch.rand(50,hidden_dim//2))\n",
        "    self.col_embed=nn.Parameter(torch.rand(50,hidden_dim//2))\n",
        "  def forward(self,inputs):\n",
        "    x=self.backbone(inputs)\n",
        "    h=self.conv(x)\n",
        "    H,W=h.shape[-2:]\n",
        "    pos=torch.cat([self.col_embed[:W].unsqueeze(0).repeat(H,1,1),self.row_embed[:H].unsqueeze(1).repeat(1,W,1),],dim=-1).flatten(0,1).unsqueeze(1)\n",
        "    h=self.transformer(pos+h.flatten(2).permute(2,0,1),self.query_pos.unsqueeze(1))\n",
        "    return self.linear_classes(h),self.linear_bbox(h).sigmoid()"
      ],
      "metadata": {
        "id": "w8Hp-bTOo133"
      },
      "execution_count": 2,
      "outputs": []
    },
    {
      "cell_type": "code",
      "source": [
        "detr=DetectionTransformer(num_classes=91,hidden_dim=256,nheads=8,num_encoder_layers=6,num_decoder_layers=6)\n",
        "detr.eval()\n",
        "inputs=torch.randn(1,3,800,1200)\n",
        "logits,bboxes=detr(inputs)"
      ],
      "metadata": {
        "colab": {
          "base_uri": "https://localhost:8080/"
        },
        "id": "9GqdJNV7sN1Q",
        "outputId": "8956a985-8ddb-4af3-a9bc-c1c6c275ea6b"
      },
      "execution_count": 3,
      "outputs": [
        {
          "output_type": "stream",
          "name": "stderr",
          "text": [
            "/usr/local/lib/python3.10/dist-packages/torchvision/models/_utils.py:208: UserWarning: The parameter 'pretrained' is deprecated since 0.13 and may be removed in the future, please use 'weights' instead.\n",
            "  warnings.warn(\n",
            "/usr/local/lib/python3.10/dist-packages/torchvision/models/_utils.py:223: UserWarning: Arguments other than a weight enum or `None` for 'weights' are deprecated since 0.13 and may be removed in the future. The current behavior is equivalent to passing `weights=ResNet50_Weights.IMAGENET1K_V1`. You can also use `weights=ResNet50_Weights.DEFAULT` to get the most up-to-date weights.\n",
            "  warnings.warn(msg)\n",
            "Downloading: \"https://download.pytorch.org/models/resnet50-0676ba61.pth\" to /root/.cache/torch/hub/checkpoints/resnet50-0676ba61.pth\n",
            "100%|██████████| 97.8M/97.8M [00:00<00:00, 188MB/s]\n",
            "/usr/local/lib/python3.10/dist-packages/torch/nn/modules/transformer.py:379: UserWarning: enable_nested_tensor is True, but self.use_nested_tensor is False because encoder_layer.self_attn.batch_first was not True(use batch_first for better inference performance)\n",
            "  warnings.warn(\n"
          ]
        }
      ]
    },
    {
      "cell_type": "code",
      "source": [
        "logits"
      ],
      "metadata": {
        "colab": {
          "base_uri": "https://localhost:8080/"
        },
        "id": "FqwQ8WRssqox",
        "outputId": "683db696-a1a2-4de5-d2ac-b0f596cbcabd"
      },
      "execution_count": 4,
      "outputs": [
        {
          "output_type": "execute_result",
          "data": {
            "text/plain": [
              "tensor([[[ 1.0615,  0.0071,  0.8348,  ...,  0.8110, -0.2461, -0.3349]],\n",
              "\n",
              "        [[ 1.0017,  0.0475,  0.8626,  ...,  0.7535, -0.2110, -0.3625]],\n",
              "\n",
              "        [[ 1.0322, -0.0029,  0.9326,  ...,  0.7583, -0.2704, -0.3947]],\n",
              "\n",
              "        ...,\n",
              "\n",
              "        [[ 1.0033,  0.0952,  0.8987,  ...,  0.7963, -0.2344, -0.2576]],\n",
              "\n",
              "        [[ 1.0073,  0.0876,  0.8287,  ...,  0.7513, -0.1801, -0.2971]],\n",
              "\n",
              "        [[ 1.0857,  0.0343,  0.9029,  ...,  0.7263, -0.3136, -0.2596]]],\n",
              "       grad_fn=<ViewBackward0>)"
            ]
          },
          "metadata": {},
          "execution_count": 4
        }
      ]
    },
    {
      "cell_type": "code",
      "source": [
        "bboxes"
      ],
      "metadata": {
        "colab": {
          "base_uri": "https://localhost:8080/"
        },
        "id": "1RAO7u2ysyiI",
        "outputId": "dba9bb9f-b77d-494e-e322-185ac04c2c5b"
      },
      "execution_count": 5,
      "outputs": [
        {
          "output_type": "execute_result",
          "data": {
            "text/plain": [
              "tensor([[[0.6727, 0.6039, 0.3110, 0.4066]],\n",
              "\n",
              "        [[0.6688, 0.6089, 0.3133, 0.4052]],\n",
              "\n",
              "        [[0.6791, 0.5699, 0.3051, 0.3970]],\n",
              "\n",
              "        [[0.6924, 0.5963, 0.3181, 0.4136]],\n",
              "\n",
              "        [[0.7000, 0.5963, 0.3255, 0.4049]],\n",
              "\n",
              "        [[0.6758, 0.6039, 0.3074, 0.4032]],\n",
              "\n",
              "        [[0.6757, 0.5878, 0.3112, 0.4013]],\n",
              "\n",
              "        [[0.6985, 0.5867, 0.3062, 0.3822]],\n",
              "\n",
              "        [[0.6830, 0.5809, 0.3213, 0.4113]],\n",
              "\n",
              "        [[0.6846, 0.5848, 0.3157, 0.3862]],\n",
              "\n",
              "        [[0.6861, 0.5923, 0.2921, 0.3845]],\n",
              "\n",
              "        [[0.6788, 0.6046, 0.3151, 0.4045]],\n",
              "\n",
              "        [[0.6891, 0.6084, 0.3145, 0.3902]],\n",
              "\n",
              "        [[0.6829, 0.6077, 0.3183, 0.4083]],\n",
              "\n",
              "        [[0.6608, 0.5787, 0.3266, 0.3952]],\n",
              "\n",
              "        [[0.6738, 0.6100, 0.3154, 0.4061]],\n",
              "\n",
              "        [[0.6931, 0.5890, 0.3246, 0.4186]],\n",
              "\n",
              "        [[0.6859, 0.5845, 0.3046, 0.4097]],\n",
              "\n",
              "        [[0.6725, 0.5881, 0.3290, 0.3964]],\n",
              "\n",
              "        [[0.6852, 0.5915, 0.3087, 0.3902]],\n",
              "\n",
              "        [[0.6932, 0.5946, 0.3192, 0.3865]],\n",
              "\n",
              "        [[0.6795, 0.5659, 0.3090, 0.3845]],\n",
              "\n",
              "        [[0.6846, 0.6057, 0.3031, 0.3898]],\n",
              "\n",
              "        [[0.6941, 0.5797, 0.3393, 0.4261]],\n",
              "\n",
              "        [[0.6744, 0.5761, 0.3149, 0.4059]],\n",
              "\n",
              "        [[0.6802, 0.5846, 0.3060, 0.4083]],\n",
              "\n",
              "        [[0.6854, 0.5897, 0.2964, 0.3987]],\n",
              "\n",
              "        [[0.6972, 0.5732, 0.3106, 0.3895]],\n",
              "\n",
              "        [[0.6811, 0.5949, 0.3338, 0.3987]],\n",
              "\n",
              "        [[0.6627, 0.5715, 0.3233, 0.4018]],\n",
              "\n",
              "        [[0.6909, 0.5981, 0.3110, 0.4429]],\n",
              "\n",
              "        [[0.6789, 0.5961, 0.3162, 0.4033]],\n",
              "\n",
              "        [[0.6762, 0.6102, 0.3227, 0.4098]],\n",
              "\n",
              "        [[0.6729, 0.5983, 0.3348, 0.4190]],\n",
              "\n",
              "        [[0.6667, 0.5928, 0.2978, 0.4104]],\n",
              "\n",
              "        [[0.6834, 0.6070, 0.3258, 0.4076]],\n",
              "\n",
              "        [[0.6791, 0.5922, 0.3004, 0.4052]],\n",
              "\n",
              "        [[0.6776, 0.5929, 0.3129, 0.4062]],\n",
              "\n",
              "        [[0.6737, 0.6058, 0.2979, 0.4013]],\n",
              "\n",
              "        [[0.6783, 0.5995, 0.3104, 0.3847]],\n",
              "\n",
              "        [[0.6714, 0.6033, 0.3030, 0.4217]],\n",
              "\n",
              "        [[0.6725, 0.5728, 0.3184, 0.4065]],\n",
              "\n",
              "        [[0.6861, 0.5876, 0.3177, 0.4183]],\n",
              "\n",
              "        [[0.6754, 0.6058, 0.3274, 0.3923]],\n",
              "\n",
              "        [[0.6688, 0.6084, 0.3238, 0.4214]],\n",
              "\n",
              "        [[0.6731, 0.5917, 0.3190, 0.4156]],\n",
              "\n",
              "        [[0.6747, 0.5817, 0.3231, 0.4058]],\n",
              "\n",
              "        [[0.6782, 0.5967, 0.3237, 0.3749]],\n",
              "\n",
              "        [[0.6894, 0.5821, 0.3193, 0.4136]],\n",
              "\n",
              "        [[0.6880, 0.5815, 0.3127, 0.4120]],\n",
              "\n",
              "        [[0.6755, 0.5866, 0.3214, 0.3878]],\n",
              "\n",
              "        [[0.6855, 0.5998, 0.3304, 0.3904]],\n",
              "\n",
              "        [[0.6816, 0.6009, 0.2934, 0.4030]],\n",
              "\n",
              "        [[0.7058, 0.5900, 0.2959, 0.3931]],\n",
              "\n",
              "        [[0.6822, 0.5918, 0.3130, 0.4141]],\n",
              "\n",
              "        [[0.7005, 0.5940, 0.3202, 0.4136]],\n",
              "\n",
              "        [[0.6817, 0.6092, 0.3313, 0.3745]],\n",
              "\n",
              "        [[0.6624, 0.5882, 0.3063, 0.4134]],\n",
              "\n",
              "        [[0.6769, 0.5917, 0.3082, 0.3831]],\n",
              "\n",
              "        [[0.6880, 0.5935, 0.3160, 0.4043]],\n",
              "\n",
              "        [[0.6846, 0.6060, 0.3029, 0.4177]],\n",
              "\n",
              "        [[0.6885, 0.5797, 0.3075, 0.4270]],\n",
              "\n",
              "        [[0.6695, 0.6051, 0.3119, 0.3974]],\n",
              "\n",
              "        [[0.6796, 0.5860, 0.3160, 0.4131]],\n",
              "\n",
              "        [[0.6889, 0.5748, 0.3230, 0.4115]],\n",
              "\n",
              "        [[0.7020, 0.5936, 0.3183, 0.4124]],\n",
              "\n",
              "        [[0.6778, 0.6039, 0.3236, 0.3947]],\n",
              "\n",
              "        [[0.6980, 0.6095, 0.3200, 0.3797]],\n",
              "\n",
              "        [[0.6804, 0.5949, 0.3169, 0.4091]],\n",
              "\n",
              "        [[0.6800, 0.5969, 0.3144, 0.4130]],\n",
              "\n",
              "        [[0.6906, 0.6070, 0.3065, 0.3885]],\n",
              "\n",
              "        [[0.6835, 0.5826, 0.3112, 0.3691]],\n",
              "\n",
              "        [[0.6971, 0.5769, 0.3343, 0.4126]],\n",
              "\n",
              "        [[0.6671, 0.6119, 0.3365, 0.4149]],\n",
              "\n",
              "        [[0.6771, 0.5889, 0.3277, 0.3962]],\n",
              "\n",
              "        [[0.6862, 0.5905, 0.3116, 0.4134]],\n",
              "\n",
              "        [[0.7026, 0.5925, 0.3153, 0.3911]],\n",
              "\n",
              "        [[0.6684, 0.5848, 0.3238, 0.3999]],\n",
              "\n",
              "        [[0.6823, 0.6007, 0.3212, 0.4005]],\n",
              "\n",
              "        [[0.6883, 0.6114, 0.3147, 0.4391]],\n",
              "\n",
              "        [[0.6831, 0.6002, 0.3283, 0.3995]],\n",
              "\n",
              "        [[0.6827, 0.5990, 0.3161, 0.4018]],\n",
              "\n",
              "        [[0.6879, 0.5801, 0.3164, 0.4162]],\n",
              "\n",
              "        [[0.6721, 0.5886, 0.3253, 0.4080]],\n",
              "\n",
              "        [[0.6856, 0.5780, 0.2949, 0.4116]],\n",
              "\n",
              "        [[0.6796, 0.5825, 0.3356, 0.3934]],\n",
              "\n",
              "        [[0.6901, 0.5826, 0.3344, 0.3843]],\n",
              "\n",
              "        [[0.6752, 0.5941, 0.3267, 0.4278]],\n",
              "\n",
              "        [[0.6666, 0.6100, 0.2955, 0.4003]],\n",
              "\n",
              "        [[0.6668, 0.5940, 0.3126, 0.3971]],\n",
              "\n",
              "        [[0.6859, 0.5844, 0.3145, 0.3932]],\n",
              "\n",
              "        [[0.6750, 0.6074, 0.3114, 0.3939]],\n",
              "\n",
              "        [[0.6708, 0.5735, 0.3283, 0.4086]],\n",
              "\n",
              "        [[0.6838, 0.5820, 0.3296, 0.3943]],\n",
              "\n",
              "        [[0.6897, 0.6110, 0.3124, 0.4124]],\n",
              "\n",
              "        [[0.6661, 0.5857, 0.3131, 0.4038]],\n",
              "\n",
              "        [[0.6781, 0.6003, 0.3056, 0.4037]],\n",
              "\n",
              "        [[0.6799, 0.5971, 0.3114, 0.4125]],\n",
              "\n",
              "        [[0.6789, 0.5965, 0.3226, 0.3886]],\n",
              "\n",
              "        [[0.6734, 0.5653, 0.3261, 0.4149]]], grad_fn=<SigmoidBackward0>)"
            ]
          },
          "metadata": {},
          "execution_count": 5
        }
      ]
    },
    {
      "cell_type": "code",
      "source": [],
      "metadata": {
        "id": "bjP29uzhs0C_"
      },
      "execution_count": null,
      "outputs": []
    }
  ]
}